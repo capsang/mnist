{
 "cells": [
  {
   "cell_type": "code",
   "execution_count": 3,
   "metadata": {},
   "outputs": [
    {
     "name": "stdout",
     "output_type": "stream",
     "text": [
      "For image: /home/parallels/experiments/tensorflow/opencv/images/test1.jpg Dog Not detected\n",
      "For image: /home/parallels/experiments/tensorflow/opencv/images/test2.jpeg Dog Not detected\n",
      "For image: /home/parallels/experiments/tensorflow/opencv/images/test3.jpg Dog Not detected\n",
      "For image: /home/parallels/experiments/tensorflow/opencv/images/dog1.jpeg Dog Detected\n",
      "For image: /home/parallels/experiments/tensorflow/opencv/images/dog2.jpeg Dog Detected\n",
      "For image: /home/parallels/experiments/tensorflow/opencv/images/dog3.jpeg Dog Detected\n"
     ]
    }
   ],
   "source": [
    "from keras.applications.resnet50 import ResNet50\n",
    "from keras.preprocessing import image                  \n",
    "from tqdm import tqdm\n",
    "from keras.applications.resnet50 import preprocess_input, decode_predictions\n",
    "import cv2\n",
    "import matplotlib.pyplot as plt\n",
    "import numpy as np\n",
    "\n",
    "\n",
    "# define ResNet50 model\n",
    "ResNet50_model = ResNet50(weights='imagenet')\n",
    "\n",
    "def path_to_tensor(img_path):\n",
    "    # loads RGB image as PIL.Image.Image type\n",
    "    img = image.load_img(img_path, target_size=(224, 224))\n",
    "    # convert PIL.Image.Image type to 3D tensor with shape (224, 224, 3)\n",
    "    x = image.img_to_array(img)\n",
    "    # convert 3D tensor to 4D tensor with shape (1, 224, 224, 3) and return 4D tensor\n",
    "    return np.expand_dims(x, axis=0)\n",
    "\n",
    "def paths_to_tensor(img_paths):\n",
    "    list_of_tensors = [path_to_tensor(img_path) for img_path in tqdm(img_paths)]\n",
    "    return np.vstack(list_of_tensors)\n",
    "\n",
    "def ResNet50_predict_labels(img_path):\n",
    "    # returns prediction vector for image located at img_path\n",
    "    img = preprocess_input(path_to_tensor(img_path))\n",
    "    return np.argmax(ResNet50_model.predict(img))\n",
    "\n",
    "### returns \"True\" if a dog is detected in the image stored at img_path\n",
    "def dog_detector(img_path):\n",
    "    prediction = ResNet50_predict_labels(img_path)\n",
    "    return ((prediction <= 268) & (prediction >= 151)) \n",
    "\n",
    "img_paths = [\"/home/parallels/experiments/tensorflow/opencv/images/test1.jpg\", \n",
    "             \"/home/parallels/experiments/tensorflow/opencv/images/test2.jpeg\",\n",
    "             \"/home/parallels/experiments/tensorflow/opencv/images/test3.jpg\",\n",
    "             \"/home/parallels/experiments/tensorflow/opencv/images/dog1.jpeg\",\n",
    "             \"/home/parallels/experiments/tensorflow/opencv/images/dog2.jpeg\",\n",
    "             \"/home/parallels/experiments/tensorflow/opencv/images/dog3.jpeg\"]\n",
    "for img_path in img_paths:\n",
    "    res = dog_detector(img_path)\n",
    "    res_str = \"Detected\" if (res == True) else \"Not detected\"\n",
    "    print(\"For image: \"+img_path+\" Dog \"+res_str)\n",
    "    #img = cv2.imread(img_path)\n",
    "    #cv2.imshow('img',img)\n",
    "    #cv2.waitKey(0)\n",
    "cv2.destroyAllWindows()"
   ]
  },
  {
   "cell_type": "code",
   "execution_count": 5,
   "metadata": {},
   "outputs": [
    {
     "name": "stdout",
     "output_type": "stream",
     "text": [
      "For image: /home/parallels/experiments/tensorflow/opencv/images/test1.jpg face Detected\n",
      "For image: /home/parallels/experiments/tensorflow/opencv/images/test2.jpeg face Not detected\n",
      "For image: /home/parallels/experiments/tensorflow/opencv/images/test3.jpg face Detected\n"
     ]
    }
   ],
   "source": [
    "import cv2\n",
    "import matplotlib.pyplot as plt\n",
    "#%matplotlib\n",
    "\n",
    "# extract pre-trained face detector\n",
    "face_cascade = cv2.CascadeClassifier(\n",
    "    '/home/parallels/experiments/tensorflow/opencv/opencv_src/data/haarcascades/haarcascade_frontalface_default.xml')\n",
    "\n",
    "# returns \"True\" if face is detected in image stored at img_path\n",
    "def face_detector(img_path):\n",
    "    img = cv2.imread(img_path)\n",
    "    gray = cv2.cvtColor(img, cv2.COLOR_BGR2GRAY)\n",
    "    faces = face_cascade.detectMultiScale(gray)\n",
    "    return len(faces) > 0\n",
    "\n",
    "img_paths = [\"/home/parallels/experiments/tensorflow/opencv/images/test1.jpg\", \n",
    "             \"/home/parallels/experiments/tensorflow/opencv/images/test2.jpeg\",\n",
    "             \"/home/parallels/experiments/tensorflow/opencv/images/test3.jpg\"]\n",
    "for img_path in img_paths:\n",
    "    res = face_detector(img_path)\n",
    "    res_str = \"Detected\" if (res == True) else \"Not detected\"\n",
    "    print(\"For image: \"+img_path+\" face \"+res_str)\n",
    "    #img = cv2.imread(img_path)\n",
    "    #cv2.imshow('img',img)\n",
    "    #cv2.waitKey(0)\n",
    "cv2.destroyAllWindows()"
   ]
  },
  {
   "cell_type": "code",
   "execution_count": 1,
   "metadata": {},
   "outputs": [
    {
     "ename": "NameError",
     "evalue": "name 'face_detector' is not defined",
     "output_type": "error",
     "traceback": [
      "\u001b[0;31m---------------------------------------------------------------------------\u001b[0m",
      "\u001b[0;31mNameError\u001b[0m                                 Traceback (most recent call last)",
      "\u001b[0;32m<ipython-input-1-fdc61dd7bff0>\u001b[0m in \u001b[0;36m<module>\u001b[0;34m\u001b[0m\n\u001b[1;32m      4\u001b[0m              \"/home/parallels/experiments/tensorflow/opencv/images/test3.jpg\"]\n\u001b[1;32m      5\u001b[0m \u001b[0;32mfor\u001b[0m \u001b[0mimg_path\u001b[0m \u001b[0;32min\u001b[0m \u001b[0mimg_paths\u001b[0m\u001b[0;34m:\u001b[0m\u001b[0;34m\u001b[0m\u001b[0m\n\u001b[0;32m----> 6\u001b[0;31m     \u001b[0mres\u001b[0m \u001b[0;34m=\u001b[0m \u001b[0mface_detector\u001b[0m\u001b[0;34m(\u001b[0m\u001b[0mimg_path\u001b[0m\u001b[0;34m)\u001b[0m\u001b[0;34m\u001b[0m\u001b[0m\n\u001b[0m\u001b[1;32m      7\u001b[0m     \u001b[0mres_str\u001b[0m \u001b[0;34m=\u001b[0m \u001b[0;34m\"Detected\"\u001b[0m \u001b[0;32mif\u001b[0m \u001b[0;34m(\u001b[0m\u001b[0mres\u001b[0m \u001b[0;34m==\u001b[0m \u001b[0;32mTrue\u001b[0m\u001b[0;34m)\u001b[0m \u001b[0;32melse\u001b[0m \u001b[0;34m\"Not detected\"\u001b[0m\u001b[0;34m\u001b[0m\u001b[0m\n\u001b[1;32m      8\u001b[0m     \u001b[0mprint\u001b[0m\u001b[0;34m(\u001b[0m\u001b[0;34m\"For image: \"\u001b[0m\u001b[0;34m+\u001b[0m\u001b[0mimg_path\u001b[0m\u001b[0;34m+\u001b[0m\u001b[0;34m\" face \"\u001b[0m\u001b[0;34m+\u001b[0m\u001b[0mres_str\u001b[0m\u001b[0;34m)\u001b[0m\u001b[0;34m\u001b[0m\u001b[0m\n",
      "\u001b[0;31mNameError\u001b[0m: name 'face_detector' is not defined"
     ]
    }
   ],
   "source": [
    "\n"
   ]
  },
  {
   "cell_type": "code",
   "execution_count": null,
   "metadata": {},
   "outputs": [],
   "source": []
  }
 ],
 "metadata": {
  "kernelspec": {
   "display_name": "Python 3",
   "language": "python",
   "name": "python3"
  },
  "language_info": {
   "codemirror_mode": {
    "name": "ipython",
    "version": 3
   },
   "file_extension": ".py",
   "mimetype": "text/x-python",
   "name": "python",
   "nbconvert_exporter": "python",
   "pygments_lexer": "ipython3",
   "version": "3.5.2"
  }
 },
 "nbformat": 4,
 "nbformat_minor": 2
}
